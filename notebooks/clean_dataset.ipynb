{
 "cells": [
  {
   "cell_type": "code",
   "execution_count": 2,
   "id": "4cea550d",
   "metadata": {},
   "outputs": [],
   "source": [
    "import numpy as np\n",
    "import pandas as pd"
   ]
  },
  {
   "cell_type": "code",
   "execution_count": 3,
   "id": "6fb4a1e0",
   "metadata": {},
   "outputs": [
    {
     "name": "stdout",
     "output_type": "stream",
     "text": [
      "<class 'pandas.core.frame.DataFrame'>\n",
      "RangeIndex: 21501 entries, 0 to 21500\n",
      "Data columns (total 28 columns):\n",
      " #   Column                Non-Null Count  Dtype  \n",
      "---  ------                --------------  -----  \n",
      " 0   id                    21501 non-null  object \n",
      " 1   city                  21501 non-null  object \n",
      " 2   type                  17104 non-null  object \n",
      " 3   squareMeters          21501 non-null  float64\n",
      " 4   rooms                 21501 non-null  float64\n",
      " 5   floor                 17928 non-null  float64\n",
      " 6   floorCount            21292 non-null  float64\n",
      " 7   buildYear             18121 non-null  float64\n",
      " 8   latitude              21501 non-null  float64\n",
      " 9   longitude             21501 non-null  float64\n",
      " 10  centreDistance        21501 non-null  float64\n",
      " 11  poiCount              21501 non-null  float64\n",
      " 12  schoolDistance        21490 non-null  float64\n",
      " 13  clinicDistance        21438 non-null  float64\n",
      " 14  postOfficeDistance    21481 non-null  float64\n",
      " 15  kindergartenDistance  21482 non-null  float64\n",
      " 16  restaurantDistance    21470 non-null  float64\n",
      " 17  collegeDistance       20917 non-null  float64\n",
      " 18  pharmacyDistance      21471 non-null  float64\n",
      " 19  ownership             21501 non-null  object \n",
      " 20  buildingMaterial      12709 non-null  object \n",
      " 21  condition             5580 non-null   object \n",
      " 22  hasParkingSpace       21501 non-null  object \n",
      " 23  hasBalcony            21501 non-null  object \n",
      " 24  hasElevator           20541 non-null  object \n",
      " 25  hasSecurity           21501 non-null  object \n",
      " 26  hasStorageRoom        21501 non-null  object \n",
      " 27  price                 21501 non-null  int64  \n",
      "dtypes: float64(16), int64(1), object(11)\n",
      "memory usage: 4.6+ MB\n"
     ]
    }
   ],
   "source": [
    "apartments = \"../datasets/apartments.csv\"\n",
    "apartments_df = pd.read_csv(apartments)\n",
    "apartments_df.info()"
   ]
  },
  {
   "cell_type": "code",
   "execution_count": 4,
   "id": "a843769b",
   "metadata": {},
   "outputs": [],
   "source": [
    "cleaned_df = apartments_df.drop(columns=[\"buildingMaterial\", \"condition\"])\n",
    "cleaned_df = cleaned_df[~cleaned_df.type.isnull()]\n",
    "cleaned_df = cleaned_df[~cleaned_df.isna().any(axis=1)]"
   ]
  },
  {
   "cell_type": "code",
   "execution_count": 9,
   "id": "1b45ec28",
   "metadata": {},
   "outputs": [
    {
     "data": {
      "text/plain": [
       "(11986, 26)"
      ]
     },
     "execution_count": 9,
     "metadata": {},
     "output_type": "execute_result"
    }
   ],
   "source": [
    "cleaned_df.shape"
   ]
  },
  {
   "cell_type": "code",
   "execution_count": 6,
   "id": "13d6ec17",
   "metadata": {},
   "outputs": [
    {
     "data": {
      "text/plain": [
       "0"
      ]
     },
     "execution_count": 6,
     "metadata": {},
     "output_type": "execute_result"
    }
   ],
   "source": [
    "cleaned_df.id.isnull().any().sum()"
   ]
  },
  {
   "cell_type": "code",
   "execution_count": 7,
   "id": "b6405f8c",
   "metadata": {},
   "outputs": [
    {
     "name": "stdout",
     "output_type": "stream",
     "text": [
      "id: 0\n",
      "city: 0\n",
      "type: 0\n",
      "squareMeters: 0\n",
      "rooms: 0\n",
      "floor: 0\n",
      "floorCount: 0\n",
      "buildYear: 0\n",
      "latitude: 0\n",
      "longitude: 0\n",
      "centreDistance: 0\n",
      "poiCount: 0\n",
      "schoolDistance: 0\n",
      "clinicDistance: 0\n",
      "postOfficeDistance: 0\n",
      "kindergartenDistance: 0\n",
      "restaurantDistance: 0\n",
      "collegeDistance: 0\n",
      "pharmacyDistance: 0\n",
      "ownership: 0\n",
      "hasParkingSpace: 0\n",
      "hasBalcony: 0\n",
      "hasElevator: 0\n",
      "hasSecurity: 0\n",
      "hasStorageRoom: 0\n",
      "price: 0\n"
     ]
    }
   ],
   "source": [
    "for col in cleaned_df.columns:\n",
    "    print(f\"{col}: {cleaned_df[col].isnull().sum()}\")"
   ]
  },
  {
   "cell_type": "code",
   "execution_count": 10,
   "id": "a3d3e614",
   "metadata": {},
   "outputs": [],
   "source": [
    "cleaned_df.to_csv(\"../datasets/cleaned_apartments.csv\", index=False)"
   ]
  }
 ],
 "metadata": {
  "kernelspec": {
   "display_name": "Python 3",
   "language": "python",
   "name": "python3"
  },
  "language_info": {
   "codemirror_mode": {
    "name": "ipython",
    "version": 3
   },
   "file_extension": ".py",
   "mimetype": "text/x-python",
   "name": "python",
   "nbconvert_exporter": "python",
   "pygments_lexer": "ipython3",
   "version": "3.11.9"
  }
 },
 "nbformat": 4,
 "nbformat_minor": 5
}
