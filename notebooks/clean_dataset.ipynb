{
 "cells": [
  {
   "cell_type": "code",
   "execution_count": 1,
   "id": "4cea550d",
   "metadata": {
    "ExecuteTime": {
     "end_time": "2025-05-20T14:33:18.806044Z",
     "start_time": "2025-05-20T14:33:18.802616Z"
    }
   },
   "outputs": [],
   "source": [
    "import numpy as np\n",
    "import pandas as pd"
   ]
  },
  {
   "cell_type": "code",
   "execution_count": 2,
   "id": "6fb4a1e0",
   "metadata": {
    "ExecuteTime": {
     "end_time": "2025-05-20T14:33:26.627363Z",
     "start_time": "2025-05-20T14:33:26.551179Z"
    }
   },
   "outputs": [
    {
     "name": "stdout",
     "output_type": "stream",
     "text": [
      "<class 'pandas.core.frame.DataFrame'>\n",
      "RangeIndex: 21501 entries, 0 to 21500\n",
      "Data columns (total 28 columns):\n",
      " #   Column                Non-Null Count  Dtype  \n",
      "---  ------                --------------  -----  \n",
      " 0   id                    21501 non-null  object \n",
      " 1   city                  21501 non-null  object \n",
      " 2   type                  17104 non-null  object \n",
      " 3   squareMeters          21501 non-null  float64\n",
      " 4   rooms                 21501 non-null  float64\n",
      " 5   floor                 17928 non-null  float64\n",
      " 6   floorCount            21292 non-null  float64\n",
      " 7   buildYear             18121 non-null  float64\n",
      " 8   latitude              21501 non-null  float64\n",
      " 9   longitude             21501 non-null  float64\n",
      " 10  centreDistance        21501 non-null  float64\n",
      " 11  poiCount              21501 non-null  float64\n",
      " 12  schoolDistance        21490 non-null  float64\n",
      " 13  clinicDistance        21438 non-null  float64\n",
      " 14  postOfficeDistance    21481 non-null  float64\n",
      " 15  kindergartenDistance  21482 non-null  float64\n",
      " 16  restaurantDistance    21470 non-null  float64\n",
      " 17  collegeDistance       20917 non-null  float64\n",
      " 18  pharmacyDistance      21471 non-null  float64\n",
      " 19  ownership             21501 non-null  object \n",
      " 20  buildingMaterial      12709 non-null  object \n",
      " 21  condition             5580 non-null   object \n",
      " 22  hasParkingSpace       21501 non-null  object \n",
      " 23  hasBalcony            21501 non-null  object \n",
      " 24  hasElevator           20541 non-null  object \n",
      " 25  hasSecurity           21501 non-null  object \n",
      " 26  hasStorageRoom        21501 non-null  object \n",
      " 27  price                 21501 non-null  int64  \n",
      "dtypes: float64(16), int64(1), object(11)\n",
      "memory usage: 4.6+ MB\n"
     ]
    }
   ],
   "source": [
    "apartments = \"../datasets/apartments.csv\"\n",
    "apartments_df = pd.read_csv(apartments)\n",
    "apartments_df.info()"
   ]
  },
  {
   "cell_type": "code",
   "execution_count": 3,
   "id": "a843769b",
   "metadata": {
    "ExecuteTime": {
     "end_time": "2025-05-20T14:33:31.102741Z",
     "start_time": "2025-05-20T14:33:31.080918Z"
    }
   },
   "outputs": [],
   "source": [
    "cleaned_df = apartments_df.drop(columns=[\"buildingMaterial\", \"condition\"])\n",
    "cleaned_df = cleaned_df[~cleaned_df.type.isnull()]\n",
    "cleaned_df = cleaned_df[~cleaned_df.isna().any(axis=1)]"
   ]
  },
  {
   "cell_type": "code",
   "execution_count": 4,
   "id": "1b45ec28",
   "metadata": {
    "ExecuteTime": {
     "end_time": "2025-05-20T14:33:33.134821Z",
     "start_time": "2025-05-20T14:33:33.128341Z"
    }
   },
   "outputs": [
    {
     "data": {
      "text/plain": [
       "(11986, 26)"
      ]
     },
     "execution_count": 4,
     "metadata": {},
     "output_type": "execute_result"
    }
   ],
   "source": [
    "cleaned_df.shape"
   ]
  },
  {
   "cell_type": "code",
   "execution_count": 5,
   "id": "13d6ec17",
   "metadata": {
    "ExecuteTime": {
     "end_time": "2025-05-20T14:33:35.402227Z",
     "start_time": "2025-05-20T14:33:35.396573Z"
    }
   },
   "outputs": [
    {
     "data": {
      "text/plain": [
       "0"
      ]
     },
     "execution_count": 5,
     "metadata": {},
     "output_type": "execute_result"
    }
   ],
   "source": [
    "cleaned_df.id.isnull().any().sum()"
   ]
  },
  {
   "cell_type": "code",
   "execution_count": 6,
   "id": "b6405f8c",
   "metadata": {
    "ExecuteTime": {
     "end_time": "2025-05-20T14:33:37.051295Z",
     "start_time": "2025-05-20T14:33:37.041452Z"
    }
   },
   "outputs": [
    {
     "name": "stdout",
     "output_type": "stream",
     "text": [
      "id: 0\n",
      "city: 0\n",
      "type: 0\n",
      "squareMeters: 0\n",
      "rooms: 0\n",
      "floor: 0\n",
      "floorCount: 0\n",
      "buildYear: 0\n",
      "latitude: 0\n",
      "longitude: 0\n",
      "centreDistance: 0\n",
      "poiCount: 0\n",
      "schoolDistance: 0\n",
      "clinicDistance: 0\n",
      "postOfficeDistance: 0\n",
      "kindergartenDistance: 0\n",
      "restaurantDistance: 0\n",
      "collegeDistance: 0\n",
      "pharmacyDistance: 0\n",
      "ownership: 0\n",
      "hasParkingSpace: 0\n",
      "hasBalcony: 0\n",
      "hasElevator: 0\n",
      "hasSecurity: 0\n",
      "hasStorageRoom: 0\n",
      "price: 0\n"
     ]
    }
   ],
   "source": [
    "for col in cleaned_df.columns:\n",
    "    print(f\"{col}: {cleaned_df[col].isnull().sum()}\")"
   ]
  },
  {
   "cell_type": "code",
   "execution_count": 7,
   "id": "a3d3e614",
   "metadata": {
    "ExecuteTime": {
     "end_time": "2025-05-20T14:33:47.531336Z",
     "start_time": "2025-05-20T14:33:47.423649Z"
    }
   },
   "outputs": [],
   "source": [
    "cleaned_df.to_csv(\"../datasets/cleaned_apartments.csv\", index=False)"
   ]
  },
  {
   "cell_type": "code",
   "execution_count": 8,
   "id": "fcf7bfea5b1ea1b8",
   "metadata": {
    "ExecuteTime": {
     "end_time": "2025-05-20T15:17:28.405317Z",
     "start_time": "2025-05-20T15:17:28.394497Z"
    }
   },
   "outputs": [],
   "source": [
    "# %% 1) Импорты и определения функций\n",
    "import pandas as pd\n",
    "import numpy as np\n",
    "\n",
    "def assign_split(uuid: str, train_ids, test_ids, val_ids) -> str:\n",
    "    \"\"\"\n",
    "    Возвращает 'train', 'test', 'val' или 'unknown'\n",
    "    в зависимости от того, в каком списке находится uuid.\n",
    "    \"\"\"\n",
    "    if uuid in train_ids:\n",
    "        return \"train\"\n",
    "    elif uuid in test_ids:\n",
    "        return \"test\"\n",
    "    elif uuid in val_ids:\n",
    "        return \"val\"\n",
    "    else:\n",
    "        return \"unknown\"\n",
    "\n",
    "def process_row_final(row: pd.Series, normalize: bool = True) -> pd.Series:\n",
    "    \"\"\"\n",
    "    Обрабатывает одну строку данных об апартаментах:\n",
    "     - бинарные флаги yes/no → bool\n",
    "     - дефолты для числовых пропусков\n",
    "     - категории → числовые признаки\n",
    "     - новые признаки (price_per_sqm, log_price, is_high_floor и др.)\n",
    "     - дроп ненужных колонок\n",
    "     - (опционально) нормализация\n",
    "    Сохраняет исходные id → uuid и split.\n",
    "    \"\"\"\n",
    "    # Сохраняем id и split\n",
    "    uuid  = row.get(\"id\")\n",
    "    split = row.get(\"split\", \"unknown\")\n",
    "\n",
    "    p = row.copy()\n",
    "\n",
    "    # 1) Бинарные yes/no → True/False\n",
    "    bin_cols = ['hasParkingSpace','hasBalcony','hasElevator','hasSecurity','hasStorageRoom']\n",
    "    for c in bin_cols:\n",
    "        val = p.get(c, None)\n",
    "        p[c] = True if str(val).lower() == 'yes' else False\n",
    "\n",
    "    # 2) Дефолты для чисел\n",
    "    defaults = {\n",
    "        'floor': 2,\n",
    "        'floorCount': 5,\n",
    "        'squareMeters': 50,\n",
    "        'rooms': 2,\n",
    "        'centreDistance': 5.0,\n",
    "        'poiCount': 10\n",
    "    }\n",
    "    for c, d in defaults.items():\n",
    "        if pd.isna(p.get(c, np.nan)):\n",
    "            p[c] = d\n",
    "\n",
    "    # 3) Категории → числа\n",
    "    type_map = {'blockOfFlats':0, 'tenement':1, 'apartmentBuilding':2}\n",
    "    p['type_numeric'] = type_map.get(p.get('type'), 3)\n",
    "\n",
    "    cond_map = {'very good':4, 'good':3, 'average':2, 'poor':1, 'to renovation':0}\n",
    "    p['condition_numeric'] = cond_map.get(p.get('condition'), 2)\n",
    "\n",
    "    city_map = {\n",
    "        'warszawa':0, 'krakow':1, 'wroclaw':2,\n",
    "        'gdansk':3,   'lodz':4,   'poznan':5\n",
    "    }\n",
    "    city = str(p.get('city','')).lower()\n",
    "    p['city_numeric'] = city_map.get(city, 6)\n",
    "\n",
    "    # 4) Новые признаки\n",
    "    p['floor_ratio']     = p['floor'] / max(p['floorCount'], 1)\n",
    "    p['price_per_sqm']   = p['price'] / max(p['squareMeters'], 0.1)\n",
    "    p['is_high_floor']   = int(p['floor'] >= 0.75 * p['floorCount'])\n",
    "    p['log_price']       = np.log1p(p['price'])\n",
    "    p['comfort_score']   = sum(int(p[f]) for f in bin_cols)\n",
    "\n",
    "    # 5) Дропим все ненужные колонки\n",
    "    drop_cols = [\n",
    "        'id', 'split',\n",
    "        'buildYear', 'buildingMaterial', 'ownership',\n",
    "        'schoolDistance', 'clinicDistance', 'kindergartenDistance',\n",
    "        'restaurantDistance', 'collegeDistance', 'pharmacyDistance', 'postOfficeDistance',\n",
    "        'type', 'condition', 'city'\n",
    "    ]\n",
    "    p = p.drop(drop_cols, errors='ignore')\n",
    "\n",
    "    # 6) Нормализация (если нужно)\n",
    "    if normalize:\n",
    "        ranges = {\n",
    "            'squareMeters':(20,200),'rooms':(1,6),'floor':(0,20),'floorCount':(1,30),\n",
    "            'centreDistance':(0,20),'poiCount':(0,50),\n",
    "            'type_numeric':(0,3),'condition_numeric':(0,4),'city_numeric':(0,6),\n",
    "            'floor_ratio':(0,1),'price_per_sqm':(20,500),'comfort_score':(0,5)\n",
    "        }\n",
    "        for col,(mn,mx) in ranges.items():\n",
    "            if col in p:\n",
    "                v = p[col]\n",
    "                v_clipped = max(min(v, mx), mn)\n",
    "                p[col] = (v_clipped - mn) / (mx - mn)\n",
    "\n",
    "    # Финальный Series с uuid и split\n",
    "    out = p.copy()\n",
    "    out['uuid']  = uuid\n",
    "    out['split'] = split\n",
    "    return out\n"
   ]
  },
  {
   "cell_type": "code",
   "execution_count": 9,
   "id": "92b78b0b7af098b6",
   "metadata": {
    "ExecuteTime": {
     "end_time": "2025-05-20T15:17:19.107569Z",
     "start_time": "2025-05-20T15:17:18.577800Z"
    }
   },
   "outputs": [],
   "source": [
    "# %% 2) Чтение исходных данных и назначение split\n",
    "\n",
    "df_raw = pd.read_csv('../datasets/cleaned_apartments.csv')\n",
    "\n",
    "train_ids = pd.read_csv('../datasets/train.csv')['id'].astype(str).tolist()\n",
    "test_ids  = pd.read_csv('../datasets/test.csv')['id'].astype(str).tolist()\n",
    "val_ids   = pd.read_csv('../datasets/val.csv')['id'].astype(str).tolist()\n",
    "\n",
    "df_raw['split'] = df_raw['id'].astype(str).apply(\n",
    "    lambda u: assign_split(u, train_ids, test_ids, val_ids)\n",
    ")\n"
   ]
  },
  {
   "cell_type": "code",
   "execution_count": null,
   "id": "40e2a910e1ceb729",
   "metadata": {},
   "outputs": [],
   "source": []
  },
  {
   "cell_type": "code",
   "execution_count": 10,
   "id": "7bc02096b9cb1c94",
   "metadata": {
    "ExecuteTime": {
     "end_time": "2025-05-20T15:21:03.052659Z",
     "start_time": "2025-05-20T15:20:40.607678Z"
    }
   },
   "outputs": [
    {
     "name": "stdout",
     "output_type": "stream",
     "text": [
      "processed_cleaned_apartments.csv ready\n"
     ]
    }
   ],
   "source": [
    "# %% 3) Применяем процессинг ко всему DataFrame и сохраняем\n",
    "\n",
    "df_processed = df_raw.apply(\n",
    "    lambda r: process_row_final(r, normalize=True),\n",
    "    axis=1\n",
    ")\n",
    "\n",
    "df_processed.to_csv('../datasets/processed_cleaned_apartments.csv', index=False)\n",
    "print(\"processed_cleaned_apartments.csv ready\")\n"
   ]
  }
 ],
 "metadata": {
  "kernelspec": {
   "display_name": "Python 3",
   "language": "python",
   "name": "python3"
  },
  "language_info": {
   "codemirror_mode": {
    "name": "ipython",
    "version": 3
   },
   "file_extension": ".py",
   "mimetype": "text/x-python",
   "name": "python",
   "nbconvert_exporter": "python",
   "pygments_lexer": "ipython3",
   "version": "3.12.2"
  }
 },
 "nbformat": 4,
 "nbformat_minor": 5
}
