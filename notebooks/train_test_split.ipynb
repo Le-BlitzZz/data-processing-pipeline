{
 "cells": [
  {
   "cell_type": "code",
   "execution_count": 1,
   "id": "3c4aa08a",
   "metadata": {},
   "outputs": [],
   "source": [
    "import pandas as pd\n",
    "import numpy as np\n",
    "from sklearn.model_selection import train_test_split"
   ]
  },
  {
   "cell_type": "code",
   "execution_count": 2,
   "id": "93a3d6e7",
   "metadata": {},
   "outputs": [
    {
     "data": {
      "text/plain": [
       "(11986, 26)"
      ]
     },
     "execution_count": 2,
     "metadata": {},
     "output_type": "execute_result"
    }
   ],
   "source": [
    "df = pd.read_csv('../datasets/cleaned_apartments.csv')\n",
    "df.shape"
   ]
  },
  {
   "cell_type": "code",
   "execution_count": 3,
   "id": "d0cd08e6",
   "metadata": {},
   "outputs": [
    {
     "name": "stdout",
     "output_type": "stream",
     "text": [
      "<class 'pandas.core.frame.DataFrame'>\n",
      "RangeIndex: 11986 entries, 0 to 11985\n",
      "Data columns (total 26 columns):\n",
      " #   Column                Non-Null Count  Dtype  \n",
      "---  ------                --------------  -----  \n",
      " 0   id                    11986 non-null  object \n",
      " 1   city                  11986 non-null  object \n",
      " 2   type                  11986 non-null  object \n",
      " 3   squareMeters          11986 non-null  float64\n",
      " 4   rooms                 11986 non-null  float64\n",
      " 5   floor                 11986 non-null  float64\n",
      " 6   floorCount            11986 non-null  float64\n",
      " 7   buildYear             11986 non-null  float64\n",
      " 8   latitude              11986 non-null  float64\n",
      " 9   longitude             11986 non-null  float64\n",
      " 10  centreDistance        11986 non-null  float64\n",
      " 11  poiCount              11986 non-null  float64\n",
      " 12  schoolDistance        11986 non-null  float64\n",
      " 13  clinicDistance        11986 non-null  float64\n",
      " 14  postOfficeDistance    11986 non-null  float64\n",
      " 15  kindergartenDistance  11986 non-null  float64\n",
      " 16  restaurantDistance    11986 non-null  float64\n",
      " 17  collegeDistance       11986 non-null  float64\n",
      " 18  pharmacyDistance      11986 non-null  float64\n",
      " 19  ownership             11986 non-null  object \n",
      " 20  hasParkingSpace       11986 non-null  object \n",
      " 21  hasBalcony            11986 non-null  object \n",
      " 22  hasElevator           11986 non-null  object \n",
      " 23  hasSecurity           11986 non-null  object \n",
      " 24  hasStorageRoom        11986 non-null  object \n",
      " 25  price                 11986 non-null  int64  \n",
      "dtypes: float64(16), int64(1), object(9)\n",
      "memory usage: 2.4+ MB\n"
     ]
    }
   ],
   "source": [
    "df.info()"
   ]
  },
  {
   "cell_type": "code",
   "execution_count": 4,
   "id": "dd1eaa44",
   "metadata": {},
   "outputs": [],
   "source": [
    "X = df.drop('price', axis=1)\n",
    "y = df['price']\n",
    "\n",
    "X_temp, X_test, y_temp, y_test = train_test_split(X, y, test_size=0.1, random_state=42)\n",
    "\n",
    "X_train, X_val, y_train, y_val = train_test_split(X_temp, y_temp, test_size=0.222, random_state=42)  # 0.22 is ~20% of the total"
   ]
  },
  {
   "cell_type": "code",
   "execution_count": 5,
   "id": "605a6fa6",
   "metadata": {},
   "outputs": [
    {
     "name": "stdout",
     "output_type": "stream",
     "text": [
      "Training set: 8392 samples (70.0%)\n",
      "Validation set: 2395 samples (20.0%)\n",
      "Test set: 1199 samples (10.0%)\n"
     ]
    }
   ],
   "source": [
    "print(f'Training set: {X_train.shape[0]} samples ({X_train.shape[0]/len(df):.1%})')\n",
    "print(f'Validation set: {X_val.shape[0]} samples ({X_val.shape[0]/len(df):.1%})')\n",
    "print(f'Test set: {X_test.shape[0]} samples ({X_test.shape[0]/len(df):.1%})')"
   ]
  },
  {
   "cell_type": "code",
   "execution_count": 6,
   "id": "223a38eb",
   "metadata": {},
   "outputs": [],
   "source": [
    "for kind in ['train', 'val', 'test']:\n",
    "    X_temp = eval(f'X_{kind}')\n",
    "    y_temp = eval(f'y_{kind}')\n",
    "    X_temp['price'] = y_temp\n",
    "    X_temp.to_csv(f'../datasets/{kind}.csv', index=False)"
   ]
  }
 ],
 "metadata": {
  "kernelspec": {
   "display_name": "Python 3",
   "language": "python",
   "name": "python3"
  },
  "language_info": {
   "codemirror_mode": {
    "name": "ipython",
    "version": 3
   },
   "file_extension": ".py",
   "mimetype": "text/x-python",
   "name": "python",
   "nbconvert_exporter": "python",
   "pygments_lexer": "ipython3",
   "version": "3.13.3"
  }
 },
 "nbformat": 4,
 "nbformat_minor": 5
}
